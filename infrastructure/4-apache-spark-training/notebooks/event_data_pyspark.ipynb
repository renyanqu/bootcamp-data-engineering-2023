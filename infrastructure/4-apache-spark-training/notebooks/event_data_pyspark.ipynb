{
 "cells": [
  {
   "cell_type": "code",
   "execution_count": 1,
   "id": "36ec94f0-2c68-4812-97b5-9b2622198e23",
   "metadata": {},
   "outputs": [
    {
     "name": "stderr",
     "output_type": "stream",
     "text": [
      "24/11/29 23:41:18 WARN SparkSession: Using an existing Spark session; only runtime SQL configurations will take effect.\n"
     ]
    }
   ],
   "source": [
    "from pyspark.sql import SparkSession\n",
    "from pyspark.sql.functions import expr, col\n",
    "spark = SparkSession.builder.appName(\"Jupyter\").getOrCreate()\n",
    "\n",
    "spark\n",
    "\n",
    "events = spark.read.option(\"header\", \"true\").csv(\"/home/iceberg/data/events.csv\").withColumn(\"event_date\", expr(\"DATE_TRUNC('day', event_time)\"))\n",
    "devices = spark.read.option(\"header\", \"true\").csv(\"/home/iceberg/data/devices.csv\")\n",
    "\n"
   ]
  },
  {
   "cell_type": "code",
   "execution_count": 7,
   "id": "4230be25-7147-4d92-9595-0cf3e9109abb",
   "metadata": {},
   "outputs": [
    {
     "name": "stdout",
     "output_type": "stream",
     "text": [
      "+-----------+----------+--------+--------------------+----------+--------------------+-------------------+\n",
      "|    user_id| device_id|referrer|                host|       url|          event_time|         event_date|\n",
      "+-----------+----------+--------+--------------------+----------+--------------------+-------------------+\n",
      "| 1037710827| 532630305|    NULL| www.zachwilson.tech|         /|2021-03-08 17:27:...|2021-03-08 00:00:00|\n",
      "|  925588856| 532630305|    NULL|    www.eczachly.com|         /|2021-05-10 11:26:...|2021-05-10 00:00:00|\n",
      "|-1180485268| 532630305|    NULL|admin.zachwilson....|         /|2021-02-17 16:19:...|2021-02-17 00:00:00|\n",
      "|-1044833855| 532630305|    NULL| www.zachwilson.tech|         /|2021-09-24 15:53:...|2021-09-24 00:00:00|\n",
      "|  747494706| 532630305|    NULL| www.zachwilson.tech|         /|2021-09-26 16:03:...|2021-09-26 00:00:00|\n",
      "|  747494706| 532630305|    NULL|admin.zachwilson....|         /|2021-02-21 16:08:...|2021-02-21 00:00:00|\n",
      "| -824540328| 532630305|    NULL|admin.zachwilson....|         /|2021-09-28 17:23:...|2021-09-28 00:00:00|\n",
      "| -824540328| 532630305|    NULL|    www.eczachly.com|         /|2021-09-29 01:22:...|2021-09-29 00:00:00|\n",
      "| 1833036683| 532630305|    NULL|admin.zachwilson....|         /|2021-01-24 03:15:...|2021-01-24 00:00:00|\n",
      "|-2134824313| 532630305|    NULL|    www.eczachly.com|         /|2021-01-25 00:03:...|2021-01-25 00:00:00|\n",
      "|-1809929467|-906264142|    NULL|admin.zachwilson....|/.git/HEAD|2021-02-22 01:36:...|2021-02-22 00:00:00|\n",
      "| 2002285749|-906264142|    NULL|    www.eczachly.com|         /|2021-02-22 02:25:...|2021-02-22 00:00:00|\n",
      "|-1562965412| 532630305|    NULL| www.zachwilson.tech|         /|2021-01-30 20:46:...|2021-01-30 00:00:00|\n",
      "|-1099860451| 532630305|    NULL|    www.eczachly.com|         /|2021-02-04 23:49:...|2021-02-04 00:00:00|\n",
      "| 1246896869|-906264142|    NULL| www.zachwilson.tech|         /|2021-02-22 02:50:...|2021-02-22 00:00:00|\n",
      "| -629331502|-906264142|    NULL|admin.zachwilson....|/.git/HEAD|2021-02-22 23:51:...|2021-02-22 00:00:00|\n",
      "|-1913422462|-906264142|    NULL|    www.eczachly.com|         /|2021-02-23 00:17:...|2021-02-23 00:00:00|\n",
      "|   50429624| 532630305|    NULL|    www.eczachly.com|         /|2022-12-28 01:38:...|2022-12-28 00:00:00|\n",
      "|  222389292| 532630305|    NULL| www.zachwilson.tech|         /|2022-12-28 05:23:...|2022-12-28 00:00:00|\n",
      "| -779924777| 532630305|    NULL| www.zachwilson.tech|         /|2022-12-28 16:45:...|2022-12-28 00:00:00|\n",
      "+-----------+----------+--------+--------------------+----------+--------------------+-------------------+\n",
      "only showing top 20 rows\n",
      "\n",
      "(404814, 7)\n",
      "root\n",
      " |-- user_id: string (nullable = true)\n",
      " |-- device_id: string (nullable = true)\n",
      " |-- referrer: string (nullable = true)\n",
      " |-- host: string (nullable = true)\n",
      " |-- url: string (nullable = true)\n",
      " |-- event_time: string (nullable = true)\n",
      " |-- event_date: timestamp (nullable = true)\n",
      "\n"
     ]
    }
   ],
   "source": [
    "events.show()\n",
    "print((events.count(), len(events.columns)))\n",
    "events.printSchema()"
   ]
  },
  {
   "cell_type": "code",
   "execution_count": 8,
   "id": "36493887-b014-487e-ba5f-ceef9449893e",
   "metadata": {},
   "outputs": [
    {
     "name": "stdout",
     "output_type": "stream",
     "text": [
      "+-----------+--------------------+-------+------------------+\n",
      "|  device_id|        browser_type|os_type|       device_type|\n",
      "+-----------+--------------------+-------+------------------+\n",
      "|-2147042689|             Firefox| Ubuntu|             Other|\n",
      "|-2146219609|            WhatsApp|  Other|            Spider|\n",
      "|-2145574618|       Chrome Mobile|Android|Generic Smartphone|\n",
      "|-2144707350|Chrome Mobile Web...|Android|  Samsung SM-G988B|\n",
      "|-2143813999|Mobile Safari UI/...|    iOS|            iPhone|\n",
      "|-2142634982|   Chrome Mobile iOS|    iOS|            iPhone|\n",
      "|-2142350383|   Chrome Mobile iOS|    iOS|            iPhone|\n",
      "|-2141256237|   Chrome Mobile iOS|    iOS|            iPhone|\n",
      "|-2138977887|             Firefox|OpenBSD|             Other|\n",
      "|-2136667425|              Chrome|Windows|             Other|\n",
      "|-2136444196|   Chrome Mobile iOS|    iOS|            iPhone|\n",
      "|-2136415223|Chrome Mobile Web...|Android| Samsung SM-A305GT|\n",
      "|-2136251094|             Firefox| Ubuntu|             Other|\n",
      "|-2136057702|           CFNetwork|  Other|        iOS-Device|\n",
      "|-2136012321|Chrome Mobile Web...|Android|          MAR-LX3A|\n",
      "|-2135188814|   Chrome Mobile iOS|    iOS|            iPhone|\n",
      "|-2134830273|   Chrome Mobile iOS|    iOS|            iPhone|\n",
      "|-2132039044|   Chrome Mobile iOS|    iOS|              iPad|\n",
      "|-2130748804|Chrome Mobile Web...|Android|  Samsung SM-G981N|\n",
      "|-2130745225|          Spider_Bot|  Other|             Other|\n",
      "+-----------+--------------------+-------+------------------+\n",
      "only showing top 20 rows\n",
      "\n",
      "(6222, 4)\n",
      "root\n",
      " |-- device_id: string (nullable = true)\n",
      " |-- browser_type: string (nullable = true)\n",
      " |-- os_type: string (nullable = true)\n",
      " |-- device_type: string (nullable = true)\n",
      "\n"
     ]
    }
   ],
   "source": [
    "devices.show()\n",
    "print((devices.count(), len(devices.columns)))\n",
    "devices.printSchema()"
   ]
  },
  {
   "cell_type": "code",
   "execution_count": 6,
   "id": "3d0cc95b-4999-4be6-ad2f-a43dcfa43ba0",
   "metadata": {},
   "outputs": [
    {
     "name": "stdout",
     "output_type": "stream",
     "text": [
      "+-----------+----------+--------+--------------------+----------+--------------------+-------------------+------------+-------+-----------+\n",
      "|    user_id| device_id|referrer|                host|       url|          event_time|         event_date|browser_type|os_type|device_type|\n",
      "+-----------+----------+--------+--------------------+----------+--------------------+-------------------+------------+-------+-----------+\n",
      "| 1037710827| 532630305|    NULL| www.zachwilson.tech|         /|2021-03-08 17:27:...|2021-03-08 00:00:00|       Other|  Other|      Other|\n",
      "|  925588856| 532630305|    NULL|    www.eczachly.com|         /|2021-05-10 11:26:...|2021-05-10 00:00:00|       Other|  Other|      Other|\n",
      "|-1180485268| 532630305|    NULL|admin.zachwilson....|         /|2021-02-17 16:19:...|2021-02-17 00:00:00|       Other|  Other|      Other|\n",
      "|-1044833855| 532630305|    NULL| www.zachwilson.tech|         /|2021-09-24 15:53:...|2021-09-24 00:00:00|       Other|  Other|      Other|\n",
      "|  747494706| 532630305|    NULL| www.zachwilson.tech|         /|2021-09-26 16:03:...|2021-09-26 00:00:00|       Other|  Other|      Other|\n",
      "|  747494706| 532630305|    NULL|admin.zachwilson....|         /|2021-02-21 16:08:...|2021-02-21 00:00:00|       Other|  Other|      Other|\n",
      "| -824540328| 532630305|    NULL|admin.zachwilson....|         /|2021-09-28 17:23:...|2021-09-28 00:00:00|       Other|  Other|      Other|\n",
      "| -824540328| 532630305|    NULL|    www.eczachly.com|         /|2021-09-29 01:22:...|2021-09-29 00:00:00|       Other|  Other|      Other|\n",
      "| 1833036683| 532630305|    NULL|admin.zachwilson....|         /|2021-01-24 03:15:...|2021-01-24 00:00:00|       Other|  Other|      Other|\n",
      "|-2134824313| 532630305|    NULL|    www.eczachly.com|         /|2021-01-25 00:03:...|2021-01-25 00:00:00|       Other|  Other|      Other|\n",
      "|-1809929467|-906264142|    NULL|admin.zachwilson....|/.git/HEAD|2021-02-22 01:36:...|2021-02-22 00:00:00|        curl|  Other|      Other|\n",
      "| 2002285749|-906264142|    NULL|    www.eczachly.com|         /|2021-02-22 02:25:...|2021-02-22 00:00:00|        curl|  Other|      Other|\n",
      "|-1562965412| 532630305|    NULL| www.zachwilson.tech|         /|2021-01-30 20:46:...|2021-01-30 00:00:00|       Other|  Other|      Other|\n",
      "|-1099860451| 532630305|    NULL|    www.eczachly.com|         /|2021-02-04 23:49:...|2021-02-04 00:00:00|       Other|  Other|      Other|\n",
      "| 1246896869|-906264142|    NULL| www.zachwilson.tech|         /|2021-02-22 02:50:...|2021-02-22 00:00:00|        curl|  Other|      Other|\n",
      "| -629331502|-906264142|    NULL|admin.zachwilson....|/.git/HEAD|2021-02-22 23:51:...|2021-02-22 00:00:00|        curl|  Other|      Other|\n",
      "|-1913422462|-906264142|    NULL|    www.eczachly.com|         /|2021-02-23 00:17:...|2021-02-23 00:00:00|        curl|  Other|      Other|\n",
      "|   50429624| 532630305|    NULL|    www.eczachly.com|         /|2022-12-28 01:38:...|2022-12-28 00:00:00|       Other|  Other|      Other|\n",
      "|  222389292| 532630305|    NULL| www.zachwilson.tech|         /|2022-12-28 05:23:...|2022-12-28 00:00:00|       Other|  Other|      Other|\n",
      "| -779924777| 532630305|    NULL| www.zachwilson.tech|         /|2022-12-28 16:45:...|2022-12-28 00:00:00|       Other|  Other|      Other|\n",
      "+-----------+----------+--------+--------------------+----------+--------------------+-------------------+------------+-------+-----------+\n",
      "only showing top 20 rows\n",
      "\n"
     ]
    }
   ],
   "source": [
    "df = events.join(devices, events[\"device_id\"] == devices[\"device_id\"]) \\\n",
    "    .select(events[\"*\"], devices[\"browser_type\"], devices[\"os_type\"], devices[\"device_type\"])\n",
    "\n",
    "df.show()"
   ]
  },
  {
   "cell_type": "code",
   "execution_count": 9,
   "id": "e8efe538-2162-4651-9f33-1aaeed19dd4c",
   "metadata": {},
   "outputs": [
    {
     "name": "stdout",
     "output_type": "stream",
     "text": [
      "root\n",
      " |-- user_id: string (nullable = true)\n",
      " |-- device_id: string (nullable = true)\n",
      " |-- referrer: string (nullable = true)\n",
      " |-- host: string (nullable = true)\n",
      " |-- url: string (nullable = true)\n",
      " |-- event_time: string (nullable = true)\n",
      " |-- event_date: timestamp (nullable = true)\n",
      " |-- browser_type: string (nullable = true)\n",
      " |-- os_type: string (nullable = true)\n",
      " |-- device_type: string (nullable = true)\n",
      "\n",
      "(404813, 10)\n"
     ]
    }
   ],
   "source": [
    "df.printSchema()\n",
    "print((df.count(), len(df.columns)))\n"
   ]
  },
  {
   "cell_type": "code",
   "execution_count": 11,
   "id": "dce068df-3e21-429a-8716-abdd13e9406c",
   "metadata": {},
   "outputs": [
    {
     "name": "stdout",
     "output_type": "stream",
     "text": [
      "== Physical Plan ==\n",
      "AdaptiveSparkPlan isFinalPlan=false\n",
      "+- Project [user_id#17, device_id#18, referrer#19, host#20, url#21, cast(event_time#22 as timestamp) AS event_time#374, event_date#29, browser_type#56, os_type#57, device_type#58]\n",
      "   +- Sort [event_date#29 ASC NULLS FIRST, host#20 ASC NULLS FIRST, browser_type#56 ASC NULLS FIRST], false, 0\n",
      "      +- Exchange hashpartitioning(event_date#29, 10), REPARTITION_BY_NUM, [plan_id=471]\n",
      "         +- Project [user_id#17, device_id#18, referrer#19, host#20, url#21, event_time#22, event_date#29, browser_type#56, os_type#57, device_type#58]\n",
      "            +- BroadcastHashJoin [device_id#18], [device_id#55], Inner, BuildRight, false\n",
      "               :- Project [user_id#17, device_id#18, referrer#19, host#20, url#21, event_time#22, date_trunc(day, cast(event_time#22 as timestamp), Some(Etc/UTC)) AS event_date#29]\n",
      "               :  +- Filter isnotnull(device_id#18)\n",
      "               :     +- FileScan csv [user_id#17,device_id#18,referrer#19,host#20,url#21,event_time#22] Batched: false, DataFilters: [isnotnull(device_id#18)], Format: CSV, Location: InMemoryFileIndex(1 paths)[file:/home/iceberg/data/events.csv], PartitionFilters: [], PushedFilters: [IsNotNull(device_id)], ReadSchema: struct<user_id:string,device_id:string,referrer:string,host:string,url:string,event_time:string>\n",
      "               +- BroadcastExchange HashedRelationBroadcastMode(List(input[0, string, false]),false), [plan_id=468]\n",
      "                  +- Filter isnotnull(device_id#55)\n",
      "                     +- FileScan csv [device_id#55,browser_type#56,os_type#57,device_type#58] Batched: false, DataFilters: [isnotnull(device_id#55)], Format: CSV, Location: InMemoryFileIndex(1 paths)[file:/home/iceberg/data/devices.csv], PartitionFilters: [], PushedFilters: [IsNotNull(device_id)], ReadSchema: struct<device_id:string,browser_type:string,os_type:string,device_type:string>\n",
      "\n",
      "\n"
     ]
    },
    {
     "name": "stderr",
     "output_type": "stream",
     "text": [
      "[Stage 27:=================>                                       (3 + 7) / 10]\r"
     ]
    },
    {
     "name": "stdout",
     "output_type": "stream",
     "text": [
      "+-----------+-----------+--------------------+--------------------+--------------------+--------------------+-------------------+------------+-------+------------------+\n",
      "|    user_id|  device_id|            referrer|                host|                 url|          event_time|         event_date|browser_type|os_type|       device_type|\n",
      "+-----------+-----------+--------------------+--------------------+--------------------+--------------------+-------------------+------------+-------+------------------+\n",
      "| 1129583063|  532630305|                NULL|admin.zachwilson....|                   /|2021-01-07 09:21:...|2021-01-07 00:00:00|       Other|  Other|             Other|\n",
      "|-1180485268|  532630305|                NULL|    www.eczachly.com|                   /|2021-01-07 18:45:...|2021-01-07 00:00:00|       Other|  Other|             Other|\n",
      "| 1129583063|  532630305|                NULL|    www.eczachly.com|                   /|2021-01-07 21:57:...|2021-01-07 00:00:00|       Other|  Other|             Other|\n",
      "| -648945006| 1088283544|                NULL|    www.eczachly.com|                   /|2021-01-07 02:58:...|2021-01-07 00:00:00|    PetalBot|Android|Generic Smartphone|\n",
      "|-1871780024| -158310583|                NULL|    www.eczachly.com|                   /|2021-01-07 04:17:...|2021-01-07 00:00:00|    PetalBot|  Other|            Spider|\n",
      "|  203689086| 1088283544|                NULL|    www.eczachly.com|/blog/what-exactl...|2021-01-07 10:03:...|2021-01-07 00:00:00|    PetalBot|Android|Generic Smartphone|\n",
      "|-1381834161| -158310583|                NULL|    www.eczachly.com|                   /|2021-01-07 23:07:...|2021-01-07 00:00:00|    PetalBot|  Other|            Spider|\n",
      "|  -43429336|-1217993711|                NULL| www.zachwilson.tech|            /contact|2021-01-07 04:57:...|2021-01-07 00:00:00|   AhrefsBot|  Other|            Spider|\n",
      "|  795587657| 1847648591|                NULL| www.zachwilson.tech|                   /|2021-01-07 19:56:...|2021-01-07 00:00:00|   AhrefsBot|  Other|            Spider|\n",
      "|  923158878|-1217993711|                NULL| www.zachwilson.tech|               /blog|2021-01-07 19:56:...|2021-01-07 00:00:00|   AhrefsBot|  Other|            Spider|\n",
      "|-1617088793| 1957784035|https://www.zachw...| www.zachwilson.tech|            /contact|2021-01-07 00:19:...|2021-01-07 00:00:00|      Chrome|Windows|             Other|\n",
      "|-1617088793| 1957784035|https://www.zachw...| www.zachwilson.tech|     /api/v1/contact|2021-01-07 00:19:...|2021-01-07 00:00:00|      Chrome|Windows|             Other|\n",
      "|-1617088793| 1957784035|https://www.zachw...| www.zachwilson.tech|            /contact|2021-01-07 00:19:...|2021-01-07 00:00:00|      Chrome|Windows|             Other|\n",
      "| -267976675| 1141939293|https://www.zachw...| www.zachwilson.tech|            /contact|2021-01-07 01:57:...|2021-01-07 00:00:00|      Chrome|Windows|             Other|\n",
      "| -267976675| 1141939293|https://www.zachw...| www.zachwilson.tech|     /api/v1/contact|2021-01-07 01:57:...|2021-01-07 00:00:00|      Chrome|Windows|             Other|\n",
      "| -267976675| 1141939293|https://www.zachw...| www.zachwilson.tech|            /contact|2021-01-07 01:57:...|2021-01-07 00:00:00|      Chrome|Windows|             Other|\n",
      "| 1198758947|-1307168836|                NULL| www.zachwilson.tech|               /blog|2021-01-07 09:57:...|2021-01-07 00:00:00|      Chrome|Windows|             Other|\n",
      "|-1894709267| 1141939293|https://www.zachw...| www.zachwilson.tech|                   /|2021-01-07 10:12:...|2021-01-07 00:00:00|      Chrome|Windows|             Other|\n",
      "|-1894709267| 1141939293|https://www.zachw...| www.zachwilson.tech|            /contact|2021-01-07 10:12:...|2021-01-07 00:00:00|      Chrome|Windows|             Other|\n",
      "|-1894709267| 1141939293|https://www.zachw...| www.zachwilson.tech|     /api/v1/contact|2021-01-07 10:13:...|2021-01-07 00:00:00|      Chrome|Windows|             Other|\n",
      "+-----------+-----------+--------------------+--------------------+--------------------+--------------------+-------------------+------------+-------+------------------+\n",
      "only showing top 20 rows\n",
      "\n"
     ]
    },
    {
     "name": "stderr",
     "output_type": "stream",
     "text": [
      "                                                                                \r"
     ]
    }
   ],
   "source": [
    "sorted = df.repartition(10, col(\"event_date\")) \\\n",
    "        .sortWithinPartitions(col(\"event_date\"), col(\"host\"), col(\"browser_type\")) \\\n",
    "        .withColumn(\"event_time\", col(\"event_time\").cast(\"timestamp\")) \n",
    "sorted.explain()\n",
    "sorted.show()"
   ]
  },
  {
   "cell_type": "code",
   "execution_count": 12,
   "id": "2aa339c9-3c26-419e-a730-dc2ca841afff",
   "metadata": {},
   "outputs": [
    {
     "name": "stdout",
     "output_type": "stream",
     "text": [
      "== Physical Plan ==\n",
      "AdaptiveSparkPlan isFinalPlan=false\n",
      "+- Project [user_id#17, device_id#18, referrer#19, host#20, url#21, cast(event_time#22 as timestamp) AS event_time#436, event_date#29, browser_type#56, os_type#57, device_type#58]\n",
      "   +- Sort [event_date#29 ASC NULLS FIRST, host#20 ASC NULLS FIRST, browser_type#56 ASC NULLS FIRST], true, 0\n",
      "      +- Exchange rangepartitioning(event_date#29 ASC NULLS FIRST, host#20 ASC NULLS FIRST, browser_type#56 ASC NULLS FIRST, 200), ENSURE_REQUIREMENTS, [plan_id=671]\n",
      "         +- Exchange hashpartitioning(event_date#29, 10), REPARTITION_BY_NUM, [plan_id=669]\n",
      "            +- Project [user_id#17, device_id#18, referrer#19, host#20, url#21, event_time#22, event_date#29, browser_type#56, os_type#57, device_type#58]\n",
      "               +- BroadcastHashJoin [device_id#18], [device_id#55], Inner, BuildRight, false\n",
      "                  :- Project [user_id#17, device_id#18, referrer#19, host#20, url#21, event_time#22, date_trunc(day, cast(event_time#22 as timestamp), Some(Etc/UTC)) AS event_date#29]\n",
      "                  :  +- Filter isnotnull(device_id#18)\n",
      "                  :     +- FileScan csv [user_id#17,device_id#18,referrer#19,host#20,url#21,event_time#22] Batched: false, DataFilters: [isnotnull(device_id#18)], Format: CSV, Location: InMemoryFileIndex(1 paths)[file:/home/iceberg/data/events.csv], PartitionFilters: [], PushedFilters: [IsNotNull(device_id)], ReadSchema: struct<user_id:string,device_id:string,referrer:string,host:string,url:string,event_time:string>\n",
      "                  +- BroadcastExchange HashedRelationBroadcastMode(List(input[0, string, false]),false), [plan_id=666]\n",
      "                     +- Filter isnotnull(device_id#55)\n",
      "                        +- FileScan csv [device_id#55,browser_type#56,os_type#57,device_type#58] Batched: false, DataFilters: [isnotnull(device_id#55)], Format: CSV, Location: InMemoryFileIndex(1 paths)[file:/home/iceberg/data/devices.csv], PartitionFilters: [], PushedFilters: [IsNotNull(device_id)], ReadSchema: struct<device_id:string,browser_type:string,os_type:string,device_type:string>\n",
      "\n",
      "\n",
      "+-----------+-----------+--------------------+--------------------+--------------------+--------------------+-------------------+------------+-------+------------------+\n",
      "|    user_id|  device_id|            referrer|                host|                 url|          event_time|         event_date|browser_type|os_type|       device_type|\n",
      "+-----------+-----------+--------------------+--------------------+--------------------+--------------------+-------------------+------------+-------+------------------+\n",
      "| 1272828233| -643696601|                NULL|admin.zachwilson....|                   /|2021-01-02 13:53:...|2021-01-02 00:00:00|      Chrome|Windows|             Other|\n",
      "| 2110046626|  898871897|                NULL|admin.zachwilson....|       /wp-login.php|2021-01-02 19:57:...|2021-01-02 00:00:00|      Chrome|  Linux|             Other|\n",
      "| 1272828233| -643696601|                NULL|admin.zachwilson....|                   /|2021-01-02 21:05:...|2021-01-02 00:00:00|      Chrome|Windows|             Other|\n",
      "| 1272828233| -643696601|                NULL|admin.zachwilson....|                   /|2021-01-02 21:37:...|2021-01-02 00:00:00|      Chrome|Windows|             Other|\n",
      "|  747494706|  532630305|                NULL|admin.zachwilson....|                   /|2021-01-02 19:36:...|2021-01-02 00:00:00|       Other|  Other|             Other|\n",
      "| 1272828233| -643696601|                NULL|    www.eczachly.com|                   /|2021-01-02 08:14:...|2021-01-02 00:00:00|      Chrome|Windows|             Other|\n",
      "| 1399665425|-2012543895|                NULL|    www.eczachly.com|                   /|2021-01-02 00:20:...|2021-01-02 00:00:00|   Googlebot|  Other|            Spider|\n",
      "| 1047962242| -158310583|                NULL|    www.eczachly.com|                   /|2021-01-02 11:40:...|2021-01-02 00:00:00|    PetalBot|  Other|            Spider|\n",
      "|  210988258| 1088283544|                NULL|    www.eczachly.com|            /contact|2021-01-02 11:11:...|2021-01-02 00:00:00|    PetalBot|Android|Generic Smartphone|\n",
      "|  125243313| -290659081|                NULL|    www.eczachly.com|                   /|2021-01-02 02:06:...|2021-01-02 00:00:00|     bingbot|  Other|            Spider|\n",
      "|  632739597| -290659081|                NULL|    www.eczachly.com|/blog/what-exactl...|2021-01-02 02:58:...|2021-01-02 00:00:00|     bingbot|  Other|            Spider|\n",
      "|-1780827820| -290659081|                NULL|    www.eczachly.com|                   /|2021-01-02 04:45:...|2021-01-02 00:00:00|     bingbot|  Other|            Spider|\n",
      "|  632739597| -290659081|                NULL|    www.eczachly.com|                   /|2021-01-02 05:14:...|2021-01-02 00:00:00|     bingbot|  Other|            Spider|\n",
      "|  273700037| -290659081|                NULL|    www.eczachly.com|                   /|2021-01-02 07:51:...|2021-01-02 00:00:00|     bingbot|  Other|            Spider|\n",
      "|  273700037| -290659081|                NULL|    www.eczachly.com|                   /|2021-01-02 11:23:...|2021-01-02 00:00:00|     bingbot|  Other|            Spider|\n",
      "|  632739597| -290659081|                NULL|    www.eczachly.com|        /sitemap.xml|2021-01-02 14:10:...|2021-01-02 00:00:00|     bingbot|  Other|            Spider|\n",
      "|  659201289| -290659081|                NULL|    www.eczachly.com|/blog/life-of-a-s...|2021-01-02 15:53:...|2021-01-02 00:00:00|     bingbot|  Other|            Spider|\n",
      "| 1445055201| 1957784035|https://www.zachw...| www.zachwilson.tech|            /contact|2021-01-02 10:17:...|2021-01-02 00:00:00|      Chrome|Windows|             Other|\n",
      "| 1746646422| 2038970862|                NULL| www.zachwilson.tech|                   /|2021-01-02 10:48:...|2021-01-02 00:00:00|      Chrome|Windows|             Other|\n",
      "| 1072106763| -784483831|https://www.zachw...| www.zachwilson.tech|            /contact|2021-01-02 09:37:...|2021-01-02 00:00:00|      Chrome|Windows|             Other|\n",
      "+-----------+-----------+--------------------+--------------------+--------------------+--------------------+-------------------+------------+-------+------------------+\n",
      "only showing top 20 rows\n",
      "\n"
     ]
    }
   ],
   "source": [
    "global_sorted = df.repartition(10, col(\"event_date\")) \\\n",
    "        .sort(col(\"event_date\"), col(\"host\"), col(\"browser_type\")) \\\n",
    "        .withColumn(\"event_time\", col(\"event_time\").cast(\"timestamp\")) \n",
    "global_sorted.explain()\n",
    "global_sorted.show()"
   ]
  },
  {
   "cell_type": "code",
   "execution_count": 13,
   "id": "d800dca7-2737-4192-b5c0-c1806c105e15",
   "metadata": {},
   "outputs": [
    {
     "data": {
      "text/html": [
       "<table>\n",
       "    <thead>\n",
       "        <tr>\n",
       "        </tr>\n",
       "    </thead>\n",
       "    <tbody>\n",
       "    </tbody>\n",
       "</table>"
      ],
      "text/plain": [
       "++\n",
       "||\n",
       "++\n",
       "++"
      ]
     },
     "execution_count": 13,
     "metadata": {},
     "output_type": "execute_result"
    }
   ],
   "source": [
    "%%sql\n",
    "\n",
    "CREATE DATABASE IF NOT EXISTS bootcamp"
   ]
  },
  {
   "cell_type": "code",
   "execution_count": 14,
   "id": "e83cd813-d5c0-4d67-8285-849b882b8bfa",
   "metadata": {},
   "outputs": [
    {
     "data": {
      "text/html": [
       "<table>\n",
       "    <thead>\n",
       "        <tr>\n",
       "        </tr>\n",
       "    </thead>\n",
       "    <tbody>\n",
       "    </tbody>\n",
       "</table>"
      ],
      "text/plain": [
       "++\n",
       "||\n",
       "++\n",
       "++"
      ]
     },
     "execution_count": 14,
     "metadata": {},
     "output_type": "execute_result"
    }
   ],
   "source": [
    "%%sql\n",
    "\n",
    "DROP TABLE IF EXISTS bootcamp.events"
   ]
  },
  {
   "cell_type": "code",
   "execution_count": 15,
   "id": "d1b197a9-1b63-4130-acbe-01418eede0e5",
   "metadata": {
    "scrolled": true
   },
   "outputs": [
    {
     "data": {
      "text/html": [
       "<table>\n",
       "    <thead>\n",
       "        <tr>\n",
       "        </tr>\n",
       "    </thead>\n",
       "    <tbody>\n",
       "    </tbody>\n",
       "</table>"
      ],
      "text/plain": [
       "++\n",
       "||\n",
       "++\n",
       "++"
      ]
     },
     "execution_count": 15,
     "metadata": {},
     "output_type": "execute_result"
    }
   ],
   "source": [
    "%%sql\n",
    "\n",
    "CREATE TABLE IF NOT EXISTS bootcamp.events (\n",
    "    url STRING,\n",
    "    referrer STRING,\n",
    "    browser_type STRING,\n",
    "    os_type STRING,\n",
    "    device_type STRING,\n",
    "    host STRING,\n",
    "    event_time TIMESTAMP,\n",
    "    event_date DATE\n",
    ")\n",
    "USING iceberg\n",
    "PARTITIONED BY (years(event_date));\n"
   ]
  },
  {
   "cell_type": "code",
   "execution_count": 16,
   "id": "c40b143f-295e-4875-bd7f-12409312b800",
   "metadata": {
    "scrolled": true
   },
   "outputs": [
    {
     "data": {
      "text/html": [
       "<table>\n",
       "    <thead>\n",
       "        <tr>\n",
       "        </tr>\n",
       "    </thead>\n",
       "    <tbody>\n",
       "    </tbody>\n",
       "</table>"
      ],
      "text/plain": [
       "++\n",
       "||\n",
       "++\n",
       "++"
      ]
     },
     "execution_count": 16,
     "metadata": {},
     "output_type": "execute_result"
    }
   ],
   "source": [
    "%%sql\n",
    "\n",
    "\n",
    "CREATE TABLE IF NOT EXISTS bootcamp.events_sorted (\n",
    "    url STRING,\n",
    "    referrer STRING,\n",
    "    browser_family STRING,\n",
    "    os_family STRING,\n",
    "    device_family STRING,\n",
    "    host STRING,\n",
    "    event_time TIMESTAMP,\n",
    "    event_date DATE\n",
    ")\n",
    "USING iceberg;"
   ]
  },
  {
   "cell_type": "code",
   "execution_count": 17,
   "id": "00c86e79-a911-464c-ad58-acc92859dcc6",
   "metadata": {
    "scrolled": true
   },
   "outputs": [
    {
     "data": {
      "text/html": [
       "<table>\n",
       "    <thead>\n",
       "        <tr>\n",
       "        </tr>\n",
       "    </thead>\n",
       "    <tbody>\n",
       "    </tbody>\n",
       "</table>"
      ],
      "text/plain": [
       "++\n",
       "||\n",
       "++\n",
       "++"
      ]
     },
     "execution_count": 17,
     "metadata": {},
     "output_type": "execute_result"
    }
   ],
   "source": [
    "%%sql\n",
    "\n",
    "\n",
    "CREATE TABLE IF NOT EXISTS bootcamp.events_unsorted (\n",
    "    url STRING,\n",
    "    referrer STRING,\n",
    "    browser_family STRING,\n",
    "    os_family STRING,\n",
    "    device_family STRING,\n",
    "    host STRING,\n",
    "    event_time TIMESTAMP,\n",
    "    event_date DATE\n",
    ")\n",
    "USING iceberg;"
   ]
  },
  {
   "cell_type": "code",
   "execution_count": 20,
   "id": "2c1254bc-9ecf-4c86-bfd9-de81ecfbb78b",
   "metadata": {},
   "outputs": [
    {
     "name": "stderr",
     "output_type": "stream",
     "text": [
      "                                                                                \r"
     ]
    }
   ],
   "source": [
    "\n",
    "start_df = df.repartition(4, col(\"event_date\")).withColumn(\"event_time\", col(\"event_time\").cast(\"timestamp\"))\n",
    "first_sort_df = start_df.sortWithinPartitions(col(\"event_date\"), col(\"browser_type\"), col(\"host\"))\n",
    "\n",
    "\n",
    "start_df.write.mode(\"overwrite\").saveAsTable(\"bootcamp.events_unsorted\")\n",
    "first_sort_df.write.mode(\"overwrite\").saveAsTable(\"bootcamp.events_sorted\")"
   ]
  },
  {
   "cell_type": "code",
   "execution_count": 21,
   "id": "d207a11b-b0a4-4662-bbe9-747d8f67be7d",
   "metadata": {},
   "outputs": [
    {
     "data": {
      "text/html": [
       "<table>\n",
       "    <thead>\n",
       "        <tr>\n",
       "            <th>size</th>\n",
       "            <th>num_files</th>\n",
       "            <th>sorted</th>\n",
       "        </tr>\n",
       "    </thead>\n",
       "    <tbody>\n",
       "        <tr>\n",
       "            <td>5091334</td>\n",
       "            <td>4</td>\n",
       "            <td>sorted</td>\n",
       "        </tr>\n",
       "        <tr>\n",
       "            <td>5552944</td>\n",
       "            <td>4</td>\n",
       "            <td>unsorted</td>\n",
       "        </tr>\n",
       "    </tbody>\n",
       "</table>"
      ],
      "text/plain": [
       "+---------+-----------+----------+\n",
       "|    size | num_files |   sorted |\n",
       "+---------+-----------+----------+\n",
       "| 5091334 |         4 |   sorted |\n",
       "| 5552944 |         4 | unsorted |\n",
       "+---------+-----------+----------+"
      ]
     },
     "execution_count": 21,
     "metadata": {},
     "output_type": "execute_result"
    }
   ],
   "source": [
    "%%sql\n",
    "\n",
    "SELECT SUM(file_size_in_bytes) as size, COUNT(1) as num_files, 'sorted' \n",
    "FROM demo.bootcamp.events_sorted.files\n",
    "\n",
    "UNION ALL\n",
    "SELECT SUM(file_size_in_bytes) as size, COUNT(1) as num_files, 'unsorted' \n",
    "FROM demo.bootcamp.events_unsorted.files\n",
    "\n"
   ]
  },
  {
   "cell_type": "code",
   "execution_count": null,
   "id": "3542a766-113b-462f-ae01-d045fccb661c",
   "metadata": {},
   "outputs": [],
   "source": []
  }
 ],
 "metadata": {
  "kernelspec": {
   "display_name": "Python 3 (ipykernel)",
   "language": "python",
   "name": "python3"
  },
  "language_info": {
   "codemirror_mode": {
    "name": "ipython",
    "version": 3
   },
   "file_extension": ".py",
   "mimetype": "text/x-python",
   "name": "python",
   "nbconvert_exporter": "python",
   "pygments_lexer": "ipython3",
   "version": "3.9.18"
  }
 },
 "nbformat": 4,
 "nbformat_minor": 5
}

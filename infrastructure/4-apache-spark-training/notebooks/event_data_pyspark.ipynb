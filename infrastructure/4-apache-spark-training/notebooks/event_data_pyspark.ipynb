{
 "cells": [
  {
   "cell_type": "code",
   "execution_count": 7,
   "id": "81cca085-dba2-42eb-a13b-fa64b6e86583",
   "metadata": {},
   "outputs": [
    {
     "name": "stdout",
     "output_type": "stream",
     "text": [
      "+-----------+----------+--------+--------------------+----------+--------------------+-------------------+------------+-------+-----------+\n",
      "|    user_id| device_id|referrer|                host|       url|          event_time|         event_date|browser_type|os_type|device_type|\n",
      "+-----------+----------+--------+--------------------+----------+--------------------+-------------------+------------+-------+-----------+\n",
      "| 1037710827| 532630305|    null| www.zachwilson.tech|         /|2021-03-08 17:27:...|2021-03-08 00:00:00|       Other|  Other|      Other|\n",
      "|  925588856| 532630305|    null|    www.eczachly.com|         /|2021-05-10 11:26:...|2021-05-10 00:00:00|       Other|  Other|      Other|\n",
      "|-1180485268| 532630305|    null|admin.zachwilson....|         /|2021-02-17 16:19:...|2021-02-17 00:00:00|       Other|  Other|      Other|\n",
      "|-1044833855| 532630305|    null| www.zachwilson.tech|         /|2021-09-24 15:53:...|2021-09-24 00:00:00|       Other|  Other|      Other|\n",
      "|  747494706| 532630305|    null| www.zachwilson.tech|         /|2021-09-26 16:03:...|2021-09-26 00:00:00|       Other|  Other|      Other|\n",
      "|  747494706| 532630305|    null|admin.zachwilson....|         /|2021-02-21 16:08:...|2021-02-21 00:00:00|       Other|  Other|      Other|\n",
      "| -824540328| 532630305|    null|admin.zachwilson....|         /|2021-09-28 17:23:...|2021-09-28 00:00:00|       Other|  Other|      Other|\n",
      "| -824540328| 532630305|    null|    www.eczachly.com|         /|2021-09-29 01:22:...|2021-09-29 00:00:00|       Other|  Other|      Other|\n",
      "| 1833036683| 532630305|    null|admin.zachwilson....|         /|2021-01-24 03:15:...|2021-01-24 00:00:00|       Other|  Other|      Other|\n",
      "|-2134824313| 532630305|    null|    www.eczachly.com|         /|2021-01-25 00:03:...|2021-01-25 00:00:00|       Other|  Other|      Other|\n",
      "|-1809929467|-906264142|    null|admin.zachwilson....|/.git/HEAD|2021-02-22 01:36:...|2021-02-22 00:00:00|        curl|  Other|      Other|\n",
      "| 2002285749|-906264142|    null|    www.eczachly.com|         /|2021-02-22 02:25:...|2021-02-22 00:00:00|        curl|  Other|      Other|\n",
      "|-1562965412| 532630305|    null| www.zachwilson.tech|         /|2021-01-30 20:46:...|2021-01-30 00:00:00|       Other|  Other|      Other|\n",
      "|-1099860451| 532630305|    null|    www.eczachly.com|         /|2021-02-04 23:49:...|2021-02-04 00:00:00|       Other|  Other|      Other|\n",
      "| 1246896869|-906264142|    null| www.zachwilson.tech|         /|2021-02-22 02:50:...|2021-02-22 00:00:00|        curl|  Other|      Other|\n",
      "| -629331502|-906264142|    null|admin.zachwilson....|/.git/HEAD|2021-02-22 23:51:...|2021-02-22 00:00:00|        curl|  Other|      Other|\n",
      "|-1913422462|-906264142|    null|    www.eczachly.com|         /|2021-02-23 00:17:...|2021-02-23 00:00:00|        curl|  Other|      Other|\n",
      "|   50429624| 532630305|    null|    www.eczachly.com|         /|2022-12-28 01:38:...|2022-12-28 00:00:00|       Other|  Other|      Other|\n",
      "|  222389292| 532630305|    null| www.zachwilson.tech|         /|2022-12-28 05:23:...|2022-12-28 00:00:00|       Other|  Other|      Other|\n",
      "| -779924777| 532630305|    null| www.zachwilson.tech|         /|2022-12-28 16:45:...|2022-12-28 00:00:00|       Other|  Other|      Other|\n",
      "+-----------+----------+--------+--------------------+----------+--------------------+-------------------+------------+-------+-----------+\n",
      "only showing top 20 rows\n",
      "\n"
     ]
    }
   ],
   "source": [
    "from pyspark.sql import SparkSession\n",
    "from pyspark.sql.functions import expr, col\n",
    "spark = SparkSession.builder.appName(\"Jupyter\").getOrCreate()\n",
    "\n",
    "spark\n",
    "\n",
    "events = spark.read.option(\"header\", \"true\").csv(\"/home/iceberg/data/events.csv\").withColumn(\"event_date\", expr(\"DATE_TRUNC('day', event_time)\"))\n",
    "devices = spark.read.option(\"header\", \"true\").csv(\"/home/iceberg/data/devices.csv\")\n",
    "\n",
    "df = events.join(devices, events[\"device_id\"] == devices[\"device_id\"]) \\\n",
    "    .select(events[\"*\"], devices[\"browser_type\"], devices[\"os_type\"], devices[\"device_type\"])\n",
    "\n",
    "df.show()"
   ]
  },
  {
   "cell_type": "code",
   "execution_count": 8,
   "id": "dce068df-3e21-429a-8716-abdd13e9406c",
   "metadata": {},
   "outputs": [
    {
     "name": "stdout",
     "output_type": "stream",
     "text": [
      "+-----------+-----------+--------------------+--------------------+--------------------+--------------------+-------------------+------------+-------+------------------+\n",
      "|    user_id|  device_id|            referrer|                host|                 url|          event_time|         event_date|browser_type|os_type|       device_type|\n",
      "+-----------+-----------+--------------------+--------------------+--------------------+--------------------+-------------------+------------+-------+------------------+\n",
      "| 1129583063|  532630305|                null|admin.zachwilson....|                   /|2021-01-07 09:21:...|2021-01-07 00:00:00|       Other|  Other|             Other|\n",
      "|-1180485268|  532630305|                null|    www.eczachly.com|                   /|2021-01-07 18:45:...|2021-01-07 00:00:00|       Other|  Other|             Other|\n",
      "| 1129583063|  532630305|                null|    www.eczachly.com|                   /|2021-01-07 21:57:...|2021-01-07 00:00:00|       Other|  Other|             Other|\n",
      "| -648945006| 1088283544|                null|    www.eczachly.com|                   /|2021-01-07 02:58:...|2021-01-07 00:00:00|    PetalBot|Android|Generic Smartphone|\n",
      "|-1871780024| -158310583|                null|    www.eczachly.com|                   /|2021-01-07 04:17:...|2021-01-07 00:00:00|    PetalBot|  Other|            Spider|\n",
      "|  203689086| 1088283544|                null|    www.eczachly.com|/blog/what-exactl...|2021-01-07 10:03:...|2021-01-07 00:00:00|    PetalBot|Android|Generic Smartphone|\n",
      "|-1381834161| -158310583|                null|    www.eczachly.com|                   /|2021-01-07 23:07:...|2021-01-07 00:00:00|    PetalBot|  Other|            Spider|\n",
      "|  -43429336|-1217993711|                null| www.zachwilson.tech|            /contact|2021-01-07 04:57:...|2021-01-07 00:00:00|   AhrefsBot|  Other|            Spider|\n",
      "|  795587657| 1847648591|                null| www.zachwilson.tech|                   /|2021-01-07 19:56:...|2021-01-07 00:00:00|   AhrefsBot|  Other|            Spider|\n",
      "|  923158878|-1217993711|                null| www.zachwilson.tech|               /blog|2021-01-07 19:56:...|2021-01-07 00:00:00|   AhrefsBot|  Other|            Spider|\n",
      "|-1617088793| 1957784035|https://www.zachw...| www.zachwilson.tech|            /contact|2021-01-07 00:19:...|2021-01-07 00:00:00|      Chrome|Windows|             Other|\n",
      "|-1617088793| 1957784035|https://www.zachw...| www.zachwilson.tech|     /api/v1/contact|2021-01-07 00:19:...|2021-01-07 00:00:00|      Chrome|Windows|             Other|\n",
      "|-1617088793| 1957784035|https://www.zachw...| www.zachwilson.tech|            /contact|2021-01-07 00:19:...|2021-01-07 00:00:00|      Chrome|Windows|             Other|\n",
      "| -267976675| 1141939293|https://www.zachw...| www.zachwilson.tech|            /contact|2021-01-07 01:57:...|2021-01-07 00:00:00|      Chrome|Windows|             Other|\n",
      "| -267976675| 1141939293|https://www.zachw...| www.zachwilson.tech|     /api/v1/contact|2021-01-07 01:57:...|2021-01-07 00:00:00|      Chrome|Windows|             Other|\n",
      "| -267976675| 1141939293|https://www.zachw...| www.zachwilson.tech|            /contact|2021-01-07 01:57:...|2021-01-07 00:00:00|      Chrome|Windows|             Other|\n",
      "| 1198758947|-1307168836|                null| www.zachwilson.tech|               /blog|2021-01-07 09:57:...|2021-01-07 00:00:00|      Chrome|Windows|             Other|\n",
      "|-1894709267| 1141939293|https://www.zachw...| www.zachwilson.tech|                   /|2021-01-07 10:12:...|2021-01-07 00:00:00|      Chrome|Windows|             Other|\n",
      "|-1894709267| 1141939293|https://www.zachw...| www.zachwilson.tech|            /contact|2021-01-07 10:12:...|2021-01-07 00:00:00|      Chrome|Windows|             Other|\n",
      "|-1894709267| 1141939293|https://www.zachw...| www.zachwilson.tech|     /api/v1/contact|2021-01-07 10:13:...|2021-01-07 00:00:00|      Chrome|Windows|             Other|\n",
      "+-----------+-----------+--------------------+--------------------+--------------------+--------------------+-------------------+------------+-------+------------------+\n",
      "only showing top 20 rows\n",
      "\n"
     ]
    }
   ],
   "source": [
    "sorted = df.repartition(10, col(\"event_date\")) \\\n",
    "        .sortWithinPartitions(col(\"event_date\"), col(\"host\"), col(\"browser_type\")) \\\n",
    "        .withColumn(\"event_time\", col(\"event_time\").cast(\"timestamp\")) \\\n",
    "\n",
    "sorted.show()"
   ]
  },
  {
   "cell_type": "code",
   "execution_count": 9,
   "id": "d800dca7-2737-4192-b5c0-c1806c105e15",
   "metadata": {},
   "outputs": [
    {
     "data": {
      "text/html": [
       "<table>\n",
       "    <tr>\n",
       "    </tr>\n",
       "</table>"
      ],
      "text/plain": [
       "++\n",
       "||\n",
       "++\n",
       "++"
      ]
     },
     "execution_count": 9,
     "metadata": {},
     "output_type": "execute_result"
    }
   ],
   "source": [
    "%%sql\n",
    "\n",
    "CREATE DATABASE IF NOT EXISTS bootcamp"
   ]
  },
  {
   "cell_type": "code",
   "execution_count": 10,
   "id": "e83cd813-d5c0-4d67-8285-849b882b8bfa",
   "metadata": {},
   "outputs": [
    {
     "data": {
      "text/html": [
       "<table>\n",
       "    <tr>\n",
       "    </tr>\n",
       "</table>"
      ],
      "text/plain": [
       "++\n",
       "||\n",
       "++\n",
       "++"
      ]
     },
     "execution_count": 10,
     "metadata": {},
     "output_type": "execute_result"
    }
   ],
   "source": [
    "%%sql\n",
    "\n",
    "DROP TABLE IF EXISTS bootcamp.events"
   ]
  },
  {
   "cell_type": "code",
   "execution_count": 11,
   "id": "d1b197a9-1b63-4130-acbe-01418eede0e5",
   "metadata": {
    "scrolled": true
   },
   "outputs": [
    {
     "data": {
      "text/html": [
       "<table>\n",
       "    <tr>\n",
       "    </tr>\n",
       "</table>"
      ],
      "text/plain": [
       "++\n",
       "||\n",
       "++\n",
       "++"
      ]
     },
     "execution_count": 11,
     "metadata": {},
     "output_type": "execute_result"
    }
   ],
   "source": [
    "%%sql\n",
    "\n",
    "CREATE TABLE IF NOT EXISTS bootcamp.events (\n",
    "    url STRING,\n",
    "    referrer STRING,\n",
    "    browser_type STRING,\n",
    "    os_type STRING,\n",
    "    device_type STRING,\n",
    "    host STRING,\n",
    "    event_time TIMESTAMP,\n",
    "    event_date DATE\n",
    ")\n",
    "USING iceberg\n",
    "PARTITIONED BY (years(event_date));\n"
   ]
  },
  {
   "cell_type": "code",
   "execution_count": 12,
   "id": "c40b143f-295e-4875-bd7f-12409312b800",
   "metadata": {
    "scrolled": true
   },
   "outputs": [
    {
     "data": {
      "text/html": [
       "<table>\n",
       "    <tr>\n",
       "    </tr>\n",
       "</table>"
      ],
      "text/plain": [
       "++\n",
       "||\n",
       "++\n",
       "++"
      ]
     },
     "execution_count": 12,
     "metadata": {},
     "output_type": "execute_result"
    }
   ],
   "source": [
    "%%sql\n",
    "\n",
    "\n",
    "CREATE TABLE IF NOT EXISTS bootcamp.events_sorted (\n",
    "    url STRING,\n",
    "    referrer STRING,\n",
    "    browser_family STRING,\n",
    "    os_family STRING,\n",
    "    device_family STRING,\n",
    "    host STRING,\n",
    "    event_time TIMESTAMP,\n",
    "    event_date DATE\n",
    ")\n",
    "USING iceberg;"
   ]
  },
  {
   "cell_type": "code",
   "execution_count": 13,
   "id": "00c86e79-a911-464c-ad58-acc92859dcc6",
   "metadata": {
    "scrolled": true
   },
   "outputs": [
    {
     "data": {
      "text/html": [
       "<table>\n",
       "    <tr>\n",
       "    </tr>\n",
       "</table>"
      ],
      "text/plain": [
       "++\n",
       "||\n",
       "++\n",
       "++"
      ]
     },
     "execution_count": 13,
     "metadata": {},
     "output_type": "execute_result"
    }
   ],
   "source": [
    "%%sql\n",
    "\n",
    "\n",
    "CREATE TABLE IF NOT EXISTS bootcamp.events_unsorted (\n",
    "    url STRING,\n",
    "    referrer STRING,\n",
    "    browser_family STRING,\n",
    "    os_family STRING,\n",
    "    device_family STRING,\n",
    "    host STRING,\n",
    "    event_time TIMESTAMP,\n",
    "    event_date DATE\n",
    ")\n",
    "USING iceberg;"
   ]
  },
  {
   "cell_type": "code",
   "execution_count": 14,
   "id": "2c1254bc-9ecf-4c86-bfd9-de81ecfbb78b",
   "metadata": {},
   "outputs": [
    {
     "name": "stderr",
     "output_type": "stream",
     "text": [
      "SLF4J: Failed to load class \"org.slf4j.impl.StaticLoggerBinder\".\n",
      "SLF4J: Defaulting to no-operation (NOP) logger implementation\n",
      "SLF4J: See http://www.slf4j.org/codes.html#StaticLoggerBinder for further details.\n",
      "                                                                                \r"
     ]
    }
   ],
   "source": [
    "\n",
    "start_df = df.repartition(4, col(\"event_date\")).withColumn(\"event_time\", col(\"event_time\").cast(\"timestamp\")) \\\n",
    "    \n",
    "\n",
    "first_sort_df = start_df.sortWithinPartitions(col(\"event_date\"), col(\"browser_type\"), col(\"host\"))\n",
    "\n",
    "sorted = df.repartition(10, col(\"event_date\")) \\\n",
    "        .sortWithinPartitions(col(\"event_date\")) \\\n",
    "        .withColumn(\"event_time\", col(\"event_time\").cast(\"timestamp\")) \\\n",
    "\n",
    "start_df.write.mode(\"overwrite\").saveAsTable(\"bootcamp.events_unsorted\")\n",
    "first_sort_df.write.mode(\"overwrite\").saveAsTable(\"bootcamp.events_sorted\")"
   ]
  },
  {
   "cell_type": "code",
   "execution_count": 15,
   "id": "d207a11b-b0a4-4662-bbe9-747d8f67be7d",
   "metadata": {},
   "outputs": [
    {
     "data": {
      "text/html": [
       "<table>\n",
       "    <tr>\n",
       "        <th>size</th>\n",
       "        <th>num_files</th>\n",
       "        <th>sorted</th>\n",
       "    </tr>\n",
       "    <tr>\n",
       "        <td>5007432</td>\n",
       "        <td>4</td>\n",
       "        <td>sorted</td>\n",
       "    </tr>\n",
       "    <tr>\n",
       "        <td>5503954</td>\n",
       "        <td>4</td>\n",
       "        <td>unsorted</td>\n",
       "    </tr>\n",
       "</table>"
      ],
      "text/plain": [
       "+---------+-----------+----------+\n",
       "|    size | num_files |   sorted |\n",
       "+---------+-----------+----------+\n",
       "| 5007432 |         4 |   sorted |\n",
       "| 5503954 |         4 | unsorted |\n",
       "+---------+-----------+----------+"
      ]
     },
     "execution_count": 15,
     "metadata": {},
     "output_type": "execute_result"
    }
   ],
   "source": [
    "%%sql\n",
    "\n",
    "SELECT SUM(file_size_in_bytes) as size, COUNT(1) as num_files, 'sorted' \n",
    "FROM demo.bootcamp.events_sorted.files\n",
    "\n",
    "UNION ALL\n",
    "SELECT SUM(file_size_in_bytes) as size, COUNT(1) as num_files, 'unsorted' \n",
    "FROM demo.bootcamp.events_unsorted.files\n",
    "\n"
   ]
  }
 ],
 "metadata": {
  "kernelspec": {
   "display_name": "Python 3 (ipykernel)",
   "language": "python",
   "name": "python3"
  },
  "language_info": {
   "codemirror_mode": {
    "name": "ipython",
    "version": 3
   },
   "file_extension": ".py",
   "mimetype": "text/x-python",
   "name": "python",
   "nbconvert_exporter": "python",
   "pygments_lexer": "ipython3",
   "version": "3.9.17"
  }
 },
 "nbformat": 4,
 "nbformat_minor": 5
}
